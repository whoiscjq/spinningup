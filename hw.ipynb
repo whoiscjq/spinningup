{
 "cells": [
  {
   "cell_type": "code",
   "execution_count": 5,
   "metadata": {},
   "outputs": [],
   "source": [
    "import torch\n",
    "from torch import nn\n",
    "import torch.nn.functional as F"
   ]
  },
  {
   "cell_type": "code",
   "execution_count": 3,
   "metadata": {},
   "outputs": [],
   "source": [
    "class LeNet(nn.Module):\n",
    "    def __init__(self):\n",
    "        super(LeNet, self).__init__()\n",
    "        self.conv = nn.Sequential(\n",
    "            nn.Conv2d(1, 6, 5), # in_channels, out_channels, kernel_size\n",
    "            nn.Sigmoid(),\n",
    "            nn.MaxPool2d(2, 2), # kernel_size, stride\n",
    "            nn.Conv2d(6, 16, 5),\n",
    "            nn.Sigmoid(),\n",
    "            nn.MaxPool2d(2, 2)\n",
    "        )\n",
    "        self.fc = nn.Sequential(\n",
    "            nn.Linear(16*4*4, 120),\n",
    "            nn.Sigmoid(),\n",
    "            nn.Linear(120, 84),\n",
    "            nn.Sigmoid(),\n",
    "            nn.Linear(84, 10)\n",
    "        )\n",
    "\n",
    "    def forward(self, img):\n",
    "        feature = self.conv(img)\n",
    "        output = self.fc(feature.view(img.shape[0], -1))\n",
    "        return output\n"
   ]
  },
  {
   "cell_type": "code",
   "execution_count": 9,
   "metadata": {},
   "outputs": [],
   "source": [
    "class VGG(nn.Module):\n",
    "    \"\"\"\n",
    "    VGG builder\n",
    "    \"\"\"\n",
    "    def __init__(self, arch: object=[2, 2, 3, 3, 3], num_classes=1000) -> object:\n",
    "        super(VGG, self).__init__()\n",
    "        self.in_channels = 3\n",
    "        self.conv3_64 = self.__make_layer(64, arch[0])\n",
    "        self.conv3_128 = self.__make_layer(128, arch[1])\n",
    "        self.conv3_256 = self.__make_layer(256, arch[2])\n",
    "        self.conv3_512a = self.__make_layer(512, arch[3])\n",
    "        self.conv3_512b = self.__make_layer(512, arch[4])\n",
    "        self.fc1 = nn.Linear(7*7*512, 4096)\n",
    "        self.bn1 = nn.BatchNorm1d(4096)\n",
    "        self.bn2 = nn.BatchNorm1d(4096)\n",
    "        self.fc2 = nn.Linear(4096, 4096)\n",
    "        self.fc3 = nn.Linear(4096, num_classes)\n",
    "\n",
    "    def __make_layer(self, channels, num):\n",
    "        layers = []\n",
    "        for i in range(num):\n",
    "            layers.append(nn.Conv2d(self.in_channels, channels, 3, stride=1, padding=1, bias=False))  # same padding\n",
    "            layers.append(nn.BatchNorm2d(channels))\n",
    "            layers.append(nn.ReLU())\n",
    "            self.in_channels = channels\n",
    "        return nn.Sequential(*layers)\n",
    "\n",
    "    def forward(self, x):\n",
    "        out = self.conv3_64(x)\n",
    "        out = F.max_pool2d(out, 2)\n",
    "        out = self.conv3_128(out)\n",
    "        out = F.max_pool2d(out, 2)\n",
    "        out = self.conv3_256(out)\n",
    "        out = F.max_pool2d(out, 2)\n",
    "        out = self.conv3_512a(out)\n",
    "        out = F.max_pool2d(out, 2)\n",
    "        out = self.conv3_512b(out)\n",
    "        out = F.max_pool2d(out, 2)\n",
    "        out = out.view(out.size(0), -1)\n",
    "        out = self.fc1(out)\n",
    "        out = self.bn1(out)\n",
    "        out = F.relu(out)\n",
    "        out = self.fc2(out)\n",
    "        out = self.bn2(out)\n",
    "        out = F.relu(out)\n",
    "        return F.softmax(self.fc3(out))"
   ]
  },
  {
   "cell_type": "code",
   "execution_count": 2,
   "metadata": {},
   "outputs": [
    {
     "name": "stderr",
     "output_type": "stream",
     "text": [
      "/home/muquan/anaconda3/envs/robotllm/lib/python3.8/site-packages/tqdm/auto.py:21: TqdmWarning: IProgress not found. Please update jupyter and ipywidgets. See https://ipywidgets.readthedocs.io/en/stable/user_install.html\n",
      "  from .autonotebook import tqdm as notebook_tqdm\n"
     ]
    }
   ],
   "source": [
    "from transformers import BertConfig, BertForMaskedLM, DataCollatorForLanguageModeling\n",
    "\n",
    "config = BertConfig(\n",
    "    vocab_size=50000,\n",
    "    hidden_size=768, \n",
    "    num_hidden_layers=12, \n",
    "    num_attention_heads=12,\n",
    "    max_position_embeddings=512\n",
    ")\n",
    "\n",
    " # .from_pretrained('./')"
   ]
  },
  {
   "cell_type": "code",
   "execution_count": 4,
   "metadata": {},
   "outputs": [
    {
     "data": {
      "text/plain": [
       "44426"
      ]
     },
     "execution_count": 4,
     "metadata": {},
     "output_type": "execute_result"
    }
   ],
   "source": [
    "net1=LeNet()\n",
    "torch.nn.utils.parameters_to_vector(net1.parameters()).numel()"
   ]
  },
  {
   "cell_type": "code",
   "execution_count": 10,
   "metadata": {},
   "outputs": [
    {
     "data": {
      "text/plain": [
       "138378152"
      ]
     },
     "execution_count": 10,
     "metadata": {},
     "output_type": "execute_result"
    }
   ],
   "source": [
    "net2=VGG()\n",
    "torch.nn.utils.parameters_to_vector(net2.parameters()).numel()"
   ]
  },
  {
   "cell_type": "code",
   "execution_count": 3,
   "metadata": {},
   "outputs": [
    {
     "data": {
      "text/plain": [
       "124492880"
      ]
     },
     "execution_count": 3,
     "metadata": {},
     "output_type": "execute_result"
    }
   ],
   "source": [
    "net3 = BertForMaskedLM(config)\n",
    "net3.num_parameters()"
   ]
  },
  {
   "cell_type": "markdown",
   "metadata": {},
   "source": [
    "由此可见，leNet,VGG 和Bert等模型的神经元数量远少于人脑内的神经元数量（800亿）。"
   ]
  }
 ],
 "metadata": {
  "kernelspec": {
   "display_name": "robotllm",
   "language": "python",
   "name": "python3"
  },
  "language_info": {
   "codemirror_mode": {
    "name": "ipython",
    "version": 3
   },
   "file_extension": ".py",
   "mimetype": "text/x-python",
   "name": "python",
   "nbconvert_exporter": "python",
   "pygments_lexer": "ipython3",
   "version": "3.8.17"
  },
  "orig_nbformat": 4
 },
 "nbformat": 4,
 "nbformat_minor": 2
}
